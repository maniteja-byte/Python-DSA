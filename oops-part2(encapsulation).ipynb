{
 "cells": [
  {
   "cell_type": "markdown",
   "id": "5d6ba97b",
   "metadata": {},
   "source": [
    "# Encapsulation"
   ]
  },
  {
   "cell_type": "raw",
   "id": "ad905d18",
   "metadata": {},
   "source": [
    "__str__(self) method :  __str__ is used or Printing the information of the object we needd to use __str__.\n",
    "\n",
    "syntax:\n",
    "def __str__(self):\n",
    "    return \"logic\"\n",
    "\n",
    "\n",
    "\n",
    "Encapsulation: we are grouping the methods and attributes./bundling the method and attributes intto the single unitee and it allows class to work independently.\n",
    "\n",
    "Public    : self.name = name\n",
    "protected : self._name = name\n",
    "Private   : self.__name = name\n",
    "\n",
    "\n",
    "\n",
    "            Ownclass       Derivedclass(inheritance)     object\n",
    "            \n",
    "Public       can access         can access                can access\n",
    "\n",
    "Protected    can access         can access                  No\n",
    "\n",
    "Private      can access              no                     No\n",
    "\n",
    "\n",
    "\n"
   ]
  },
  {
   "cell_type": "code",
   "execution_count": 50,
   "id": "ee3732a5",
   "metadata": {},
   "outputs": [
    {
     "name": "stdout",
     "output_type": "stream",
     "text": [
      "17\n",
      "the milege of the car 45\n",
      "<__main__.car object at 0x00000213751DFC70>\n"
     ]
    }
   ],
   "source": [
    "#revision of class and objects.\n",
    "class car:\n",
    "    def __init__(self, mileage,year,make,model):\n",
    "        self.mileage = mileage\n",
    "        self.year = year\n",
    "        self.make = make\n",
    "        self.model = model\n",
    "    def age(self, currentyear):\n",
    "        return currentyear-self.year\n",
    "    \n",
    "    def mileage1(self):\n",
    "        print(\"the milege of the car\", self.mileage)\n",
    "        \n",
    "    \n",
    "nano = car(45,2005,\"tata\",\"hatchback\")\n",
    "safari = car(20,2015,\"tata\",\"SUV\")\n",
    "fortuner = car(12,2010,\"toyoata\",\"SUV\")\n",
    "creata = car(18,202,\"hyundia\",\"SUV\")\n",
    "\n",
    "print(nano.age(2022))\n",
    "nano.mileage1()\n",
    "print(nano)"
   ]
  },
  {
   "cell_type": "code",
   "execution_count": 54,
   "id": "c315dbcb",
   "metadata": {},
   "outputs": [
    {
     "name": "stdout",
     "output_type": "stream",
     "text": [
      "the mileage is 45\n"
     ]
    }
   ],
   "source": [
    "# __str__ : for Printing the information of the object we needd to use __str__\n",
    "\n",
    "class car:\n",
    "    def __init__(self, mileage,year,make,model):\n",
    "        self.mileage = mileage\n",
    "        self.year = year\n",
    "        self.make = make\n",
    "        self.model = model\n",
    "    def age(self, currentyear):\n",
    "        return currentyear-self.year\n",
    "    \n",
    "    def mileage1(self):\n",
    "        print(\"the milege of the car\", self.mileage)\n",
    "    \n",
    "    def __str__(self):\n",
    "        return f\"the mileage is {self.mileage}\"\n",
    "        \n",
    "        \n",
    "\n",
    "\n",
    "nano = car(45,2005,\"tata\",\"hatchback\")\n",
    "\n",
    "print(nano)"
   ]
  },
  {
   "cell_type": "code",
   "execution_count": 57,
   "id": "05f15d4f",
   "metadata": {},
   "outputs": [
    {
     "name": "stdout",
     "output_type": "stream",
     "text": [
      "this is the person class\n"
     ]
    }
   ],
   "source": [
    "class Person:\n",
    "    def __init__(self,fname,lname,age):\n",
    "        self.fname = fname\n",
    "        self.lname = lname\n",
    "        self.age = age\n",
    "        \n",
    "    def __str__(self):\n",
    "        return \"this is the person class\"\n",
    "    \n",
    "p = Person(\"mani\",\"teja\",45)\n",
    "print(p)"
   ]
  },
  {
   "cell_type": "code",
   "execution_count": 67,
   "id": "7e55a56f",
   "metadata": {},
   "outputs": [
    {
     "name": "stdout",
     "output_type": "stream",
     "text": [
      "24\n",
      "duration of student in my class is : 23\n",
      "the current topic discussed in the class is : FSDS\n",
      "this is the student class\n"
     ]
    }
   ],
   "source": [
    "class student:\n",
    "    def __init__(self,name,rollno,joindate,currtopic):\n",
    "        self.name = name\n",
    "        self.rollno = rollno\n",
    "        self.joindate = joindate\n",
    "        self.currtopic = currtopic\n",
    "        \n",
    "        \n",
    "    def curr_topic(self):\n",
    "        print(\"the current topic discussed in the class is :\", self.currtopic)\n",
    "        \n",
    "    def str_rollno(self):\n",
    "        try:\n",
    "            if type(self.rollno) == str:\n",
    "                print(\"do nothing\")\n",
    "            else:\n",
    "                return str(self.rollno)\n",
    "        except Exception as e:\n",
    "            print(\"this is my errorr messagee\" , e)\n",
    "        \n",
    "    def duration(self,currdate):\n",
    "        print(\"duration of student in my class is :\" , currdate-self.joindate)\n",
    "        \n",
    "    def __str__(self):\n",
    "        return \"this is the student class\"\n",
    "    \n",
    "    \n",
    "    \n",
    "st = student(\"mani\", 24, 1999, \"FSDS\")\n",
    "\n",
    "print(st.str_rollno())\n",
    "st.duration(2022)\n",
    "st.curr_topic()\n",
    "print(st)"
   ]
  },
  {
   "cell_type": "markdown",
   "id": "3ab14209",
   "metadata": {},
   "source": [
    "# Encapsulation Example"
   ]
  },
  {
   "cell_type": "code",
   "execution_count": 94,
   "id": "ae9b8202",
   "metadata": {},
   "outputs": [
    {
     "name": "stdout",
     "output_type": "stream",
     "text": [
      "this is my public modifier : mani\n",
      "this is my protected modifier : 45\n",
      "this is my private modifier : 40000\n",
      "this is my protected modifier : 45\n",
      "this is my private modifier : 40000\n",
      "40000\n"
     ]
    },
    {
     "data": {
      "text/plain": [
       "45"
      ]
     },
     "execution_count": 94,
     "metadata": {},
     "output_type": "execute_result"
    }
   ],
   "source": [
    "class test:\n",
    "    def __init__(self):\n",
    "        self.name = \"mani\"\n",
    "        self._age = 45\n",
    "        self.__sal = 40000\n",
    "        \n",
    "        print(\"this is my public modifier :\", self.name)\n",
    "        print(\"this is my protected modifier :\", self._age)\n",
    "        print(\"this is my private modifier :\", self.__sal)\n",
    "        \n",
    "    def show(self):\n",
    "        print(\"this is my protected modifier :\", self._age)\n",
    "        print(\"this is my private modifier :\", self.__sal)\n",
    "        \n",
    "tt = test()\n",
    "tt.show()\n",
    "\n",
    "\n",
    "\n",
    "\n",
    "print(tt._test__sal)   #name managaling for private modifier/ to access private modifiers outside of the class.\n",
    "tt._age                #name mangaling for Protected class\n"
   ]
  },
  {
   "cell_type": "code",
   "execution_count": 84,
   "id": "b07ff40b",
   "metadata": {},
   "outputs": [
    {
     "name": "stdout",
     "output_type": "stream",
     "text": [
      "5\n",
      "3\n",
      "this is to print private variable breadth is : 3\n"
     ]
    },
    {
     "data": {
      "text/plain": [
       "5"
      ]
     },
     "execution_count": 84,
     "metadata": {},
     "output_type": "execute_result"
    }
   ],
   "source": [
    "class rect:\n",
    "    #__length = 0\n",
    "    #__breadth = 0\n",
    "    def __init__(self):\n",
    "        self.__length = 5\n",
    "        self.__breadth = 3\n",
    "        \n",
    "        print(self.__length)   # accessible with in the class\n",
    "        print(self.__breadth)  # accessibe within the class\n",
    "        \n",
    "        \n",
    "    def show(self):\n",
    "        print(\"this is to print private variable breadth is :\", self.__breadth)\n",
    "        \n",
    "        \n",
    "r1 = rect()\n",
    "r1.show()\n",
    "\n",
    "\n",
    "r1._rect__length  # with help of name-managaling we can access Private variable\n",
    "\n",
    "#r1.__lenght can't be accessed\n"
   ]
  },
  {
   "cell_type": "code",
   "execution_count": 6,
   "id": "cfec11b3",
   "metadata": {},
   "outputs": [],
   "source": [
    "class test:\n",
    "    def __init__(self,a,b,c):\n",
    "        self.a = a\n",
    "        self.b = b\n",
    "        self.c = c\n",
    "    \n",
    "class test1(test):\n",
    "    pass\n",
    "\n",
    "t1 = test1(4,5,6)\n",
    "\n",
    "t1."
   ]
  },
  {
   "cell_type": "code",
   "execution_count": 64,
   "id": "ac530665",
   "metadata": {},
   "outputs": [
    {
     "data": {
      "text/plain": [
       "4"
      ]
     },
     "execution_count": 64,
     "metadata": {},
     "output_type": "execute_result"
    }
   ],
   "source": [
    "class test:\n",
    "    def __init__(self,a,b,c):\n",
    "        self._a = a\n",
    "        self.__b = b\n",
    "        self.c = c\n",
    "    \n",
    "\n",
    "t = test(4,5,6)\n",
    "t._a"
   ]
  },
  {
   "cell_type": "code",
   "execution_count": 65,
   "id": "99856bae",
   "metadata": {},
   "outputs": [
    {
     "data": {
      "text/plain": [
       "5"
      ]
     },
     "execution_count": 65,
     "metadata": {},
     "output_type": "execute_result"
    }
   ],
   "source": [
    "t._test__b"
   ]
  },
  {
   "cell_type": "code",
   "execution_count": 66,
   "id": "079cf837",
   "metadata": {},
   "outputs": [
    {
     "data": {
      "text/plain": [
       "6"
      ]
     },
     "execution_count": 66,
     "metadata": {},
     "output_type": "execute_result"
    }
   ],
   "source": [
    "t.c"
   ]
  },
  {
   "cell_type": "code",
   "execution_count": 69,
   "id": "83cb0e6d",
   "metadata": {},
   "outputs": [],
   "source": [
    "class test:\n",
    "    def __init__(self,a,b,c):\n",
    "        self._a = a\n",
    "        self.__b = b\n",
    "        self.c = c\n",
    "   \n",
    "class test1(test):\n",
    "    pass\n",
    "\n",
    "t = test1(4,5,6)"
   ]
  },
  {
   "cell_type": "code",
   "execution_count": 74,
   "id": "acd0c9e0",
   "metadata": {},
   "outputs": [
    {
     "data": {
      "text/plain": [
       "6"
      ]
     },
     "execution_count": 74,
     "metadata": {},
     "output_type": "execute_result"
    }
   ],
   "source": [
    "t.c\n"
   ]
  },
  {
   "cell_type": "code",
   "execution_count": 76,
   "id": "07483af7",
   "metadata": {},
   "outputs": [
    {
     "data": {
      "text/plain": [
       "4"
      ]
     },
     "execution_count": 76,
     "metadata": {},
     "output_type": "execute_result"
    }
   ],
   "source": [
    "t._a"
   ]
  },
  {
   "cell_type": "code",
   "execution_count": 77,
   "id": "e9928f6d",
   "metadata": {},
   "outputs": [
    {
     "data": {
      "text/plain": [
       "5"
      ]
     },
     "execution_count": 77,
     "metadata": {},
     "output_type": "execute_result"
    }
   ],
   "source": [
    "t._test__b"
   ]
  },
  {
   "cell_type": "code",
   "execution_count": 23,
   "id": "df1b8f55",
   "metadata": {},
   "outputs": [],
   "source": [
    "class bonuscalculator:\n",
    "    def __init__(self, empif, emprating, email):\n",
    "        self.empif = empif\n",
    "        self.emprating = emprating\n",
    "        self._email = email\n",
    "        self.__bonusforratinga = \"70%\"\n",
    "        self.__bonusforratingB = \"60%\"\n",
    "        self.__bonusforratingc = \"40%\"\n",
    "        \n",
    "    def bonuscal(self):\n",
    "        if self.emprating == \"A\":\n",
    "            bonus = self.__bonusforratinga\n",
    "            return bonus\n",
    "        elif self.emprating == \"B\":\n",
    "            bonus = self.__bonusforratingB\n",
    "            return bonus\n",
    "        else:\n",
    "            bonus = self.__bonusforratingc\n",
    "            return bonus\n",
    "       \n",
    "        \n",
    "emp1 = bonuscalculator(101, \"B\", \"mani@gmail.com\" )\n",
    "emp2 = bonuscalculator(102, \"A\", \"teja@gaml.com\")\n",
    "emp3 = bonuscalculator(103, \"c\", \"tejajaguar@gamil.com\")"
   ]
  },
  {
   "cell_type": "code",
   "execution_count": 24,
   "id": "1869b097",
   "metadata": {},
   "outputs": [
    {
     "data": {
      "text/plain": [
       "'60%'"
      ]
     },
     "execution_count": 24,
     "metadata": {},
     "output_type": "execute_result"
    }
   ],
   "source": [
    "emp1.bonuscal()"
   ]
  },
  {
   "cell_type": "code",
   "execution_count": 25,
   "id": "97ac6f71",
   "metadata": {},
   "outputs": [
    {
     "data": {
      "text/plain": [
       "'70%'"
      ]
     },
     "execution_count": 25,
     "metadata": {},
     "output_type": "execute_result"
    }
   ],
   "source": [
    "emp2.bonuscal()"
   ]
  },
  {
   "cell_type": "code",
   "execution_count": 26,
   "id": "1352ffb3",
   "metadata": {},
   "outputs": [
    {
     "data": {
      "text/plain": [
       "'40%'"
      ]
     },
     "execution_count": 26,
     "metadata": {},
     "output_type": "execute_result"
    }
   ],
   "source": [
    "emp3.bonuscal()"
   ]
  },
  {
   "cell_type": "code",
   "execution_count": 27,
   "id": "4dab7b92",
   "metadata": {},
   "outputs": [],
   "source": [
    "emp1.__bonusforratingB = \"90%\""
   ]
  },
  {
   "cell_type": "code",
   "execution_count": 28,
   "id": "75a612cb",
   "metadata": {},
   "outputs": [
    {
     "data": {
      "text/plain": [
       "'60%'"
      ]
     },
     "execution_count": 28,
     "metadata": {},
     "output_type": "execute_result"
    }
   ],
   "source": [
    "emp1.bonuscal()"
   ]
  },
  {
   "cell_type": "code",
   "execution_count": 29,
   "id": "3ec7e7ed",
   "metadata": {},
   "outputs": [],
   "source": [
    "emp2.__bonusrationga = \"100%\"\n"
   ]
  },
  {
   "cell_type": "code",
   "execution_count": 30,
   "id": "71116766",
   "metadata": {},
   "outputs": [
    {
     "data": {
      "text/plain": [
       "'70%'"
      ]
     },
     "execution_count": 30,
     "metadata": {},
     "output_type": "execute_result"
    }
   ],
   "source": [
    "emp2.bonuscal()"
   ]
  },
  {
   "cell_type": "code",
   "execution_count": 32,
   "id": "33d48c5d",
   "metadata": {},
   "outputs": [
    {
     "data": {
      "text/plain": [
       "'mani@gmail.com'"
      ]
     },
     "execution_count": 32,
     "metadata": {},
     "output_type": "execute_result"
    }
   ],
   "source": [
    "emp1._email"
   ]
  },
  {
   "cell_type": "code",
   "execution_count": 34,
   "id": "d942456f",
   "metadata": {},
   "outputs": [],
   "source": [
    "#modifiacction will be done with datamangling\n",
    "\n",
    "emp1._bonuscalculator__bonusforratingB = \"100\"\n",
    "emp1._email = \"raju@gmail..com\""
   ]
  },
  {
   "cell_type": "code",
   "execution_count": 37,
   "id": "4d72ba33",
   "metadata": {
    "scrolled": true
   },
   "outputs": [
    {
     "data": {
      "text/plain": [
       "'100'"
      ]
     },
     "execution_count": 37,
     "metadata": {},
     "output_type": "execute_result"
    }
   ],
   "source": [
    "emp1.bonuscal()\n",
    "\n"
   ]
  },
  {
   "cell_type": "code",
   "execution_count": 36,
   "id": "9fa338ae",
   "metadata": {},
   "outputs": [
    {
     "data": {
      "text/plain": [
       "'raju@gmail..com'"
      ]
     },
     "execution_count": 36,
     "metadata": {},
     "output_type": "execute_result"
    }
   ],
   "source": [
    "emp1._email"
   ]
  },
  {
   "cell_type": "code",
   "execution_count": 103,
   "id": "e347e3e3",
   "metadata": {},
   "outputs": [],
   "source": [
    "#Encapsulation: we are grouping the methods and attributes./bundling the method and attributes intto the single unitee and it allows class to work independently.\n",
    "\n",
    "\n",
    "class tyres:\n",
    "    def __init__(self, branch, bais, pressure):\n",
    "        self.branch = branch\n",
    "        self.bais = bais\n",
    "        self.pressure = pressure\n",
    "        \n",
    "    def __str__(self):\n",
    "        return (\"tyres: \\n\\t branch :\"+self.branch +\n",
    "                \"\\n \\t belt :\" +str(self.bais) +\n",
    "                \"\\n \\t pressure: \" +str(self.pressure))\n",
    "    \n",
    "class engine:\n",
    "    def __init__(self,fuel,noise):\n",
    "        self.fuel =fuel\n",
    "        self.noise = noise\n",
    "        \n",
    "        \n",
    "    def __str__(self):\n",
    "        return (\"Engine \\n \\t  fuel: \"+self.fuel+\n",
    "                \"\\n \\t noise :\" + str(self.noise))\n",
    "    \n",
    "class body:\n",
    "    def __init__(self,size):\n",
    "        self.size = size\n",
    "        \n",
    "    def __str__(self):\n",
    "        return (\"body \\n \\t Size:\"+self.size)\n",
    "    \n",
    "    \n",
    "class car:\n",
    "    def __init__(self, tyres,engine,body):\n",
    "        self.tyres =tyres\n",
    "        self.engine = engine\n",
    "        self.body = body\n",
    "        \n",
    "    def __str__(self):\n",
    "        return (str(self.tyres) + \"\\n\"  + str(self.engine) +  \"\\n\"  + str(self.body))\n",
    "\n",
    "    "
   ]
  },
  {
   "cell_type": "code",
   "execution_count": 104,
   "id": "5b57e099",
   "metadata": {},
   "outputs": [],
   "source": [
    "t = tyres(\"banglore\",True , 28)\n",
    "e = engine(\"petrol\", 45)\n",
    "b = body(\"medium\")"
   ]
  },
  {
   "cell_type": "code",
   "execution_count": 105,
   "id": "3b8e8ca7",
   "metadata": {},
   "outputs": [],
   "source": [
    "c = car(t,e,b)"
   ]
  },
  {
   "cell_type": "code",
   "execution_count": 106,
   "id": "a0c0e303",
   "metadata": {},
   "outputs": [
    {
     "name": "stdout",
     "output_type": "stream",
     "text": [
      "tyres: \n",
      "\t branch :banglore\n",
      " \t belt :True\n",
      " \t pressure: 28\n",
      "Engine \n",
      " \t  fuel: petrol\n",
      " \t noise :45\n",
      "body \n",
      " \t Size:medium\n"
     ]
    }
   ],
   "source": [
    "print(c)"
   ]
  },
  {
   "cell_type": "code",
   "execution_count": null,
   "id": "d2aedb16",
   "metadata": {},
   "outputs": [],
   "source": []
  }
 ],
 "metadata": {
  "kernelspec": {
   "display_name": "Python 3 (ipykernel)",
   "language": "python",
   "name": "python3"
  },
  "language_info": {
   "codemirror_mode": {
    "name": "ipython",
    "version": 3
   },
   "file_extension": ".py",
   "mimetype": "text/x-python",
   "name": "python",
   "nbconvert_exporter": "python",
   "pygments_lexer": "ipython3",
   "version": "3.9.12"
  }
 },
 "nbformat": 4,
 "nbformat_minor": 5
}
