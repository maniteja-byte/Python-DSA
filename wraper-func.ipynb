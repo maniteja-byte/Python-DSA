{
  "metadata": {
    "language_info": {
      "codemirror_mode": {
        "name": "python",
        "version": 3
      },
      "file_extension": ".py",
      "mimetype": "text/x-python",
      "name": "python",
      "nbconvert_exporter": "python",
      "pygments_lexer": "ipython3",
      "version": "3.8"
    },
    "kernelspec": {
      "name": "python",
      "display_name": "Python (Pyodide)",
      "language": "python"
    }
  },
  "nbformat_minor": 4,
  "nbformat": 4,
  "cells": [
    {
      "cell_type": "code",
      "source": "from datetime import datetime\n\ndef log_datetime(func):\n    def wrapper():\n        print(f\"function:{func.__name__} \\nRun on {datetime.today()}\")\n        func()\n    return wrapper\n\n              \n@log_datetime\ndef a():\n    print(\"daily backup job finished\")\n    \n    ",
      "metadata": {
        "trusted": true
      },
      "execution_count": 4,
      "outputs": []
    },
    {
      "cell_type": "code",
      "source": "a()",
      "metadata": {
        "trusted": true
      },
      "execution_count": 5,
      "outputs": [
        {
          "name": "stdout",
          "text": "function:a \nRun on 2022-11-28 06:06:14.377000\ndaily backup job finished\n",
          "output_type": "stream"
        }
      ]
    },
    {
      "cell_type": "code",
      "source": "l1=[1,2,3,4,5,6,6]\nl2=[]\nodd_list = []\nfor i in range(0,len(l1)):\n    e = str(l1[i])\n    l2.append(e)\nprint(l2)\n\nfor i in range(0,len(l2)):\n    if l2.count(l2[i])%2 != 0:\n        odd_list.append(l2[i])\nprint(odd_list)        ",
      "metadata": {
        "trusted": true
      },
      "execution_count": 12,
      "outputs": [
        {
          "name": "stdout",
          "text": "['1', '2', '3', '4', '5', '6', '6']\n['1', '2', '3', '4', '5']\n",
          "output_type": "stream"
        }
      ]
    },
    {
      "cell_type": "code",
      "source": "l1=[1,2,3,4,5,6,6]\nodd_l=[]\nfor i in l1:\n    if l1.count(i) % 2 != 0:\n        odd_l.append(i)\nprint(odd_l)",
      "metadata": {
        "trusted": true
      },
      "execution_count": 13,
      "outputs": [
        {
          "name": "stdout",
          "text": "[1, 2, 3, 4, 5]\n",
          "output_type": "stream"
        }
      ]
    },
    {
      "cell_type": "code",
      "source": "l1=[10,20,30,40,50,60,70,80]\ng_l= list()\nfor i in l1:\n    if i <= 50:\n        g_l.append(i)\n        \nprint(g_l)",
      "metadata": {
        "trusted": true
      },
      "execution_count": 15,
      "outputs": [
        {
          "name": "stdout",
          "text": "[10, 20, 30, 40, 50]\n",
          "output_type": "stream"
        }
      ]
    },
    {
      "cell_type": "code",
      "source": "def Lowercase(func):\n    def warapping_l():\n        print(\"making lower case\")\n        e=func()\n        string_casing = e.lower()\n        return string_casing\n    return warapping_l\n\n\n\ndef split_words(func):\n    def wrap_split():\n        print(\"we are aplitting\")\n        s = func()\n        spliting_word = s.split()\n        return spliting_word\n    return wrap_split\n\n",
      "metadata": {
        "trusted": true
      },
      "execution_count": 33,
      "outputs": []
    },
    {
      "cell_type": "code",
      "source": "@split_words\n@Lowercase\n\ndef word():\n    return \"Hello worlds\"",
      "metadata": {
        "trusted": true
      },
      "execution_count": 38,
      "outputs": []
    },
    {
      "cell_type": "code",
      "source": "word()",
      "metadata": {
        "trusted": true
      },
      "execution_count": 39,
      "outputs": [
        {
          "name": "stdout",
          "text": "we are aplitting\nmaking lower case\n",
          "output_type": "stream"
        },
        {
          "execution_count": 39,
          "output_type": "execute_result",
          "data": {
            "text/plain": "['hello', 'worlds']"
          },
          "metadata": {}
        }
      ]
    },
    {
      "cell_type": "code",
      "source": "s_l = [10,20,60,30,20,40,30,60,70,80]\ns_l1= list()\n\nfor i in s_l:\n    if s_l.count(i) > 1 :\n        s_l1.append(i)\nprint(list(set(s_l1)))",
      "metadata": {
        "trusted": true
      },
      "execution_count": 44,
      "outputs": [
        {
          "name": "stdout",
          "text": "[20, 60, 30]\n",
          "output_type": "stream"
        }
      ]
    },
    {
      "cell_type": "code",
      "source": "import collections\ndef greter():\n    l1=[10,20,30,40,50,60,70,80]\n\n    dupliactes=[]\n\n    for item,count in collections.Counter(l1).items():\n        if item<=50:\n            dupliactes.append(item)\n    return dupliactes\n",
      "metadata": {
        "trusted": true
      },
      "execution_count": 53,
      "outputs": []
    },
    {
      "cell_type": "code",
      "source": "greter()",
      "metadata": {
        "trusted": true
      },
      "execution_count": 54,
      "outputs": [
        {
          "execution_count": 54,
          "output_type": "execute_result",
          "data": {
            "text/plain": "[10, 20, 30, 40, 50]"
          },
          "metadata": {}
        }
      ]
    },
    {
      "cell_type": "code",
      "source": "def outer(x,y):\n    def inner(x,y):\n        return x+y\n    z = inner(x,y)\n    return z+\"developer\"\n\nouter(\"emma\",\"kelly\")",
      "metadata": {
        "trusted": true
      },
      "execution_count": 55,
      "outputs": [
        {
          "execution_count": 55,
          "output_type": "execute_result",
          "data": {
            "text/plain": "'emmakellydeveloper'"
          },
          "metadata": {}
        }
      ]
    },
    {
      "cell_type": "code",
      "source": "string = \"maniteja\"\nfor i in range(0,len(string),2):\n    print(string[i],end=\" .\")",
      "metadata": {
        "trusted": true
      },
      "execution_count": 72,
      "outputs": [
        {
          "name": "stdout",
          "text": "m .n .t .j .",
          "output_type": "stream"
        }
      ]
    },
    {
      "cell_type": "code",
      "source": "for i in range(0,len(string)):\n    if i%2 == 0:\n        print(string[i], end =\",\")",
      "metadata": {
        "trusted": true
      },
      "execution_count": 59,
      "outputs": [
        {
          "name": "stdout",
          "text": "m,n,t,j,",
          "output_type": "stream"
        }
      ]
    },
    {
      "cell_type": "code",
      "source": "for i in range(1,31):\n    for j in range(1,11):\n        c=i*j\n        print(c, end =\" \")\n    print(\"\\n\")",
      "metadata": {
        "trusted": true
      },
      "execution_count": 75,
      "outputs": [
        {
          "name": "stdout",
          "text": "1 2 3 4 5 6 7 8 9 10 \n\n2 4 6 8 10 12 14 16 18 20 \n\n3 6 9 12 15 18 21 24 27 30 \n\n4 8 12 16 20 24 28 32 36 40 \n\n5 10 15 20 25 30 35 40 45 50 \n\n6 12 18 24 30 36 42 48 54 60 \n\n7 14 21 28 35 42 49 56 63 70 \n\n8 16 24 32 40 48 56 64 72 80 \n\n9 18 27 36 45 54 63 72 81 90 \n\n10 20 30 40 50 60 70 80 90 100 \n\n11 22 33 44 55 66 77 88 99 110 \n\n12 24 36 48 60 72 84 96 108 120 \n\n13 26 39 52 65 78 91 104 117 130 \n\n14 28 42 56 70 84 98 112 126 140 \n\n15 30 45 60 75 90 105 120 135 150 \n\n16 32 48 64 80 96 112 128 144 160 \n\n17 34 51 68 85 102 119 136 153 170 \n\n18 36 54 72 90 108 126 144 162 180 \n\n19 38 57 76 95 114 133 152 171 190 \n\n20 40 60 80 100 120 140 160 180 200 \n\n21 42 63 84 105 126 147 168 189 210 \n\n22 44 66 88 110 132 154 176 198 220 \n\n23 46 69 92 115 138 161 184 207 230 \n\n24 48 72 96 120 144 168 192 216 240 \n\n25 50 75 100 125 150 175 200 225 250 \n\n26 52 78 104 130 156 182 208 234 260 \n\n27 54 81 108 135 162 189 216 243 270 \n\n28 56 84 112 140 168 196 224 252 280 \n\n29 58 87 116 145 174 203 232 261 290 \n\n30 60 90 120 150 180 210 240 270 300 \n\n",
          "output_type": "stream"
        }
      ]
    },
    {
      "cell_type": "code",
      "source": "e = lambda x: x+15\nprint(e(5))",
      "metadata": {
        "trusted": true
      },
      "execution_count": 77,
      "outputs": [
        {
          "name": "stdout",
          "text": "20\n",
          "output_type": "stream"
        }
      ]
    },
    {
      "cell_type": "code",
      "source": "d = lambda x,y: x*y\nprint(d(3,5))",
      "metadata": {
        "trusted": true
      },
      "execution_count": 79,
      "outputs": [
        {
          "name": "stdout",
          "text": "15\n",
          "output_type": "stream"
        }
      ]
    },
    {
      "cell_type": "code",
      "source": "so = lambda x: sorted(x)\nl = [(3, 't'), (2,'r'),(4,'x')]\nso(l)",
      "metadata": {
        "trusted": true
      },
      "execution_count": 87,
      "outputs": [
        {
          "execution_count": 87,
          "output_type": "execute_result",
          "data": {
            "text/plain": "[(2, 'r'), (3, 't'), (4, 'x')]"
          },
          "metadata": {}
        }
      ]
    },
    {
      "cell_type": "code",
      "source": "l = [(3, 't'), (2,'r'),(4,'x')]\nl.sort(key = lambda x: x[0])\nprint(l)",
      "metadata": {
        "trusted": true
      },
      "execution_count": 89,
      "outputs": [
        {
          "name": "stdout",
          "text": "[(2, 'r'), (3, 't'), (4, 'x')]\n",
          "output_type": "stream"
        }
      ]
    },
    {
      "cell_type": "code",
      "source": "import datetime\nnow= datetime.datetime.now()\nprint(now)\nyear = lambda x: x.year\nmonth= lambda x: x.month\nday= lambda x: x.day\ntime=lambda x: x.time()\nprint(year(now))\nprint(month(now))\nprint(day(now))\nprint(time(now))",
      "metadata": {
        "trusted": true
      },
      "execution_count": 99,
      "outputs": [
        {
          "name": "stdout",
          "text": "2022-11-28 18:31:24.303000\n2022\n11\n28\n18:31:24.303000\n",
          "output_type": "stream"
        }
      ]
    },
    {
      "cell_type": "code",
      "source": "def upper_elimanteduplicate():\n    ",
      "metadata": {
        "trusted": true
      },
      "execution_count": 100,
      "outputs": [
        {
          "ename": "<class 'IndentationError'>",
          "evalue": "expected an indented block after function definition on line 1 (<ipython-input-100-5584923a8f0d>, line 1)",
          "traceback": [
            "\u001b[0;36m  Cell \u001b[0;32mIn [100], line 1\u001b[0;36m\u001b[0m\n\u001b[0;31m    def upper_elimanteduplicate():\u001b[0m\n\u001b[0m                                  ^\u001b[0m\n\u001b[0;31mIndentationError\u001b[0m\u001b[0;31m:\u001b[0m expected an indented block after function definition on line 1\n"
          ],
          "output_type": "error"
        }
      ]
    },
    {
      "cell_type": "code",
      "source": "l=[1,2,3,4,5,6,7,8,9]\neven=len(list(filter(lambda x: x%2==0,l)))\nodd=len(list(filter(lambda x: x%2 !=0, l)))\nprint(even)\nprint(odd)",
      "metadata": {
        "trusted": true
      },
      "execution_count": 109,
      "outputs": [
        {
          "name": "stdout",
          "text": "4\n5\n",
          "output_type": "stream"
        }
      ]
    },
    {
      "cell_type": "code",
      "source": "def test(s):\n    return str(s).upper(), str(s).lower()\n\nchars=['a','E','N','c']",
      "metadata": {
        "trusted": true
      },
      "execution_count": 110,
      "outputs": []
    },
    {
      "cell_type": "code",
      "source": "result=map(test,chars)",
      "metadata": {
        "trusted": true
      },
      "execution_count": 111,
      "outputs": []
    },
    {
      "cell_type": "code",
      "source": "print(list(result))",
      "metadata": {
        "trusted": true
      },
      "execution_count": 112,
      "outputs": [
        {
          "name": "stdout",
          "text": "[('A', 'a'), ('E', 'e'), ('N', 'n'), ('C', 'c')]\n",
          "output_type": "stream"
        }
      ]
    },
    {
      "cell_type": "code",
      "source": "def square(a):\n    return a**2\n\nl4=[4,5,6,8]",
      "metadata": {
        "trusted": true
      },
      "execution_count": 114,
      "outputs": []
    },
    {
      "cell_type": "code",
      "source": "result=map(square,l4)\nprint(list(result))",
      "metadata": {
        "trusted": true
      },
      "execution_count": 115,
      "outputs": [
        {
          "name": "stdout",
          "text": "[16, 25, 36, 64]\n",
          "output_type": "stream"
        }
      ]
    },
    {
      "cell_type": "code",
      "source": "",
      "metadata": {},
      "execution_count": null,
      "outputs": []
    }
  ]
}