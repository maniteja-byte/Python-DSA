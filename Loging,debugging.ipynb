{
 "cells": [
  {
   "cell_type": "raw",
   "id": "a70ba199-ca19-4ee0-a4a4-e3ca737ba40a",
   "metadata": {},
   "source": [
    "Stages of Code:\n",
    "\n",
    "Development\n",
    "debugging\n",
    "review\n",
    "testing\n",
    "production\n",
    "\n",
    "\n",
    "\n",
    "logging helps us to track and monitor application(code) in Runtime \n",
    "Logging is a basically module in python which helps track and record the Log information(Application log, system logs, security logs)\n",
    "log is a critical part of system documentation about runtime status of application\n",
    "\n",
    "\n",
    "\n",
    "---->>>>\n",
    "we have won't be able to get the logs, so please restart the kernel and try as this logging & debugging can't be handled by Juypter. so please restart the kernel"
   ]
  },
  {
   "cell_type": "code",
   "execution_count": 4,
   "id": "b16c3178-1dcb-4d89-a40f-84b4bebdff07",
   "metadata": {},
   "outputs": [
    {
     "name": "stdout",
     "output_type": "stream",
     "text": [
      "30\n",
      "10\n",
      "200\n",
      "2.0\n"
     ]
    }
   ],
   "source": [
    "def add(x,y):\n",
    "    return x+y\n",
    "\n",
    "def sub(x,y):\n",
    "    return x-y\n",
    "\n",
    "def mul(x,y):\n",
    "    return x*y\n",
    "\n",
    "def div(x,y):\n",
    "    return x/y\n",
    "\n",
    "\n",
    "num_1 =20\n",
    "num_2 = 10\n",
    "\n",
    "\n",
    "add_result = add(num_1,num_2)\n",
    "sub_result = sub(num_1,num_2)\n",
    "mul_result = mul(num_1,num_2)\n",
    "div_result = div(num_1,num_2)\n",
    "\n",
    "\n",
    "print(add_result)\n",
    "print(sub_result)\n",
    "print(mul_result)\n",
    "print(div_result)"
   ]
  },
  {
   "cell_type": "raw",
   "id": "1533fc11-5155-4d32-861d-e5e1cf82261a",
   "metadata": {},
   "source": [
    "same as Print statement we have Logging \n",
    "\n",
    "different levles in Logging\n",
    "\n",
    "Debug\n",
    "Info\n",
    "warning\n",
    "Error\n",
    "crtical\n",
    "\n",
    "\n",
    "\n",
    "basicConfig is used to configure the Logging. \n",
    "\n"
   ]
  },
  {
   "cell_type": "code",
   "execution_count": 19,
   "id": "a5eb79a4-4fcd-4912-b765-db19ae56d297",
   "metadata": {},
   "outputs": [
    {
     "name": "stderr",
     "output_type": "stream",
     "text": [
      "DEBUG:root:30\n",
      "INFO:root:10\n",
      "WARNING:root:200\n",
      "CRITICAL:root:2.0\n"
     ]
    }
   ],
   "source": [
    "import logging\n",
    "\n",
    "logging.basicConfig(filename = \"test1.log\" , level=logging.info)\n",
    "\n",
    "\n",
    "def add(x,y):\n",
    "    return x+y\n",
    "\n",
    "def sub(x,y):\n",
    "    return x-y\n",
    "\n",
    "def mul(x,y):\n",
    "    return x*y\n",
    "\n",
    "def div(x,y):\n",
    "    return x/y\n",
    "\n",
    "\n",
    "num_1 =20\n",
    "num_2 = 10\n",
    "\n",
    "\n",
    "add_result = add(num_1,num_2)\n",
    "sub_result = sub(num_1,num_2)\n",
    "mul_result = mul(num_1,num_2)\n",
    "div_result = div(num_1,num_2)\n",
    "\n",
    "\n",
    "\n",
    "logging.debug(add_result)\n",
    "logging.info(sub_result)\n",
    "logging.warning(mul_result)\n",
    "logging.critical(div_result)"
   ]
  },
  {
   "cell_type": "code",
   "execution_count": 37,
   "id": "56cb47b5-061e-45c5-85cb-883e6a1c0b67",
   "metadata": {},
   "outputs": [],
   "source": [
    "import logging\n",
    "\n",
    "logging.basicConfig(level = logging.DEBUG, format = ' %(asctime)s - %(levelname)s - %(message)s ')\n",
    "def namecheck(name):\n",
    "    \n",
    "    if len(name)<2:\n",
    "        logging.debug(\"check for name length\")\n",
    "        return \"invalid name\"\n",
    "    elif name.isspace():\n",
    "        logging.warning(\"name has space\")\n",
    "        return \"invalid name\"\n",
    "    elif name.isalpha():\n",
    "        logging.critical(\"checking for name is aphabet\")\n",
    "        return \"valid\"\n",
    "    elif name.replace(\" \",\"\").isalpha():\n",
    "        logging.info(\"checking for full name\")\n",
    "        return \"name is valid\"\n",
    "    else : \n",
    "        logging.debug(\"failed all checks\")\n",
    "        return \"invalide name\""
   ]
  },
  {
   "cell_type": "code",
   "execution_count": 38,
   "id": "9d623004-d91e-433a-98b6-9d65992554aa",
   "metadata": {},
   "outputs": [
    {
     "name": "stderr",
     "output_type": "stream",
     "text": [
      "INFO:root:checking for full name\n"
     ]
    },
    {
     "data": {
      "text/plain": [
       "'name is valid'"
      ]
     },
     "execution_count": 38,
     "metadata": {},
     "output_type": "execute_result"
    }
   ],
   "source": [
    "namecheck(\"mani teja kamineni\")"
   ]
  },
  {
   "cell_type": "raw",
   "id": "18648695-bd6c-4002-b882-bca59a96c06d",
   "metadata": {},
   "source": [
    "1. create logger in your code\n",
    "2. creatre on funvtion wchich takes n  no of input as able to return sum\n",
    "3. capture user input in log file\n",
    "4 .read a log file from python code and show it in console"
   ]
  },
  {
   "cell_type": "code",
   "execution_count": 57,
   "id": "aca132bf-52cd-4849-9d2a-6cd197c332b1",
   "metadata": {},
   "outputs": [
    {
     "name": "stderr",
     "output_type": "stream",
     "text": [
      "INFO:root:this is add functio\n",
      "INFO:root:2\n",
      "INFO:root:3\n",
      "INFO:root:4\n",
      "INFO:root:5\n",
      "INFO:root:6\n"
     ]
    },
    {
     "ename": "FileNotFoundError",
     "evalue": "[Errno 2] No such file or directory: 'demo4.log'",
     "output_type": "error",
     "traceback": [
      "\u001b[0;31m---------------------------------------------------------------------------\u001b[0m",
      "\u001b[0;31mFileNotFoundError\u001b[0m                         Traceback (most recent call last)",
      "Cell \u001b[0;32mIn [57], line 15\u001b[0m\n\u001b[1;32m     10\u001b[0m     \u001b[38;5;28;01mreturn\u001b[39;00m sum1\n\u001b[1;32m     13\u001b[0m \u001b[38;5;28msum\u001b[39m(\u001b[38;5;241m2\u001b[39m,\u001b[38;5;241m3\u001b[39m,\u001b[38;5;241m4\u001b[39m,\u001b[38;5;241m5\u001b[39m,\u001b[38;5;241m6\u001b[39m)\n\u001b[0;32m---> 15\u001b[0m f \u001b[38;5;241m=\u001b[39m \u001b[38;5;28;43mopen\u001b[39;49m\u001b[43m(\u001b[49m\u001b[38;5;124;43m\"\u001b[39;49m\u001b[38;5;124;43mdemo4.log\u001b[39;49m\u001b[38;5;124;43m\"\u001b[39;49m\u001b[43m,\u001b[49m\u001b[43m \u001b[49m\u001b[38;5;124;43m'\u001b[39;49m\u001b[38;5;124;43mr\u001b[39;49m\u001b[38;5;124;43m'\u001b[39;49m\u001b[43m)\u001b[49m\n\u001b[1;32m     16\u001b[0m \u001b[38;5;28mprint\u001b[39m(f\u001b[38;5;241m.\u001b[39mread())\n",
      "\u001b[0;31mFileNotFoundError\u001b[0m: [Errno 2] No such file or directory: 'demo4.log'"
     ]
    }
   ],
   "source": [
    "import logging \n",
    "\n",
    "logging.basicConfig(filename = \"demo4.lg\", level = logging.DEBUG, format = '%(asctime)s - %(filename)s - %(levelname)s - %(message)s')\n",
    "def sum(*args):\n",
    "    logging.info(\"this is add functio\")\n",
    "    sum1 = 0\n",
    "    for i in args:\n",
    "        logging.info(str(i))\n",
    "        sum1 = sum1 +i\n",
    "    return sum1\n",
    "\n",
    "\n",
    "sum(2,3,4,5,6)\n",
    "\n",
    "f = open(\"demo4.log\", 'r')\n",
    "print(f.read())\n",
    "\n"
   ]
  },
  {
   "cell_type": "code",
   "execution_count": 55,
   "id": "76de1e29-bec5-4fa7-a4f1-ea2b7eab8923",
   "metadata": {},
   "outputs": [
    {
     "name": "stdin",
     "output_type": "stream",
     "text": [
      "no of inputs : 3\n",
      " 45\n",
      " 23\n",
      " 34\n"
     ]
    },
    {
     "name": "stderr",
     "output_type": "stream",
     "text": [
      "DEBUG:root:this is the user input \n",
      "DEBUG:root:[45, 23, 34]\n",
      "INFO:root:102\n"
     ]
    },
    {
     "data": {
      "text/plain": [
       "102"
      ]
     },
     "execution_count": 55,
     "metadata": {},
     "output_type": "execute_result"
    }
   ],
   "source": [
    "sum()"
   ]
  },
  {
   "cell_type": "raw",
   "id": "e646b67f-d202-4683-933b-db927facad7e",
   "metadata": {},
   "source": [
    "#doubt in this code of line need some clarification\n",
    "\n",
    "with open('test.txt','r+') as readfile:\n",
    "            for i in readfile:\n",
    "                if line.lower().startwith(f'name: {name.lower()}'):"
   ]
  },
  {
   "cell_type": "raw",
   "id": "73a4b77c-23d9-4c27-8915-51b8acb40559",
   "metadata": {},
   "source": [
    "logging.basicConfig(file = 'saveTofile.log', level = logging.DEBUG format = '%(asctime)s - %(levelname)s -%(message)s')\n",
    "\n",
    "\n",
    "the above line of logging is basic way of Config"
   ]
  },
  {
   "cell_type": "code",
   "execution_count": 2,
   "id": "0256b050-49a0-4050-b885-7b8158a50314",
   "metadata": {},
   "outputs": [],
   "source": [
    "# save to file \n",
    "\n",
    "import os\n",
    "import logging\n",
    "\n",
    "\n",
    "\n",
    "\n",
    "logger=logging.getLogger(__name__)\n",
    "logger.setLevel(logging.DEBUG)\n",
    "f = logging.Formatter('%(asctime)s -%(name)s - %(levelname)s -%(message)s')\n",
    "fh = logging.FileHandler('saveTofile.log')\n",
    "fh.setFormatter(f)\n",
    "logger.addHandler(fh)\n",
    "\n",
    "\n",
    "#logging.basicConfig(file = 'saveTofile.log', level = logging.DEBUG format = '%(asctime)s - %(levelname)s -%(message)s')\n",
    "\n",
    "def namecheck(name):\n",
    "    logger.debug(f\"checking name ....{name}\")\n",
    "    if os.path.exists('data.txt'):\n",
    "        with open('data.txt','r') as readfile:\n",
    "            for line in readfile:\n",
    "                print(line)\n",
    "                if line.lower().startswith(f'name: {name.lower()}'):\n",
    "                    return False\n",
    "\n",
    "            if len(name) == 0:\n",
    "                logger.critical(\"name is not blank\")\n",
    "                return False\n",
    "            elif not name.isalpha():\n",
    "                logging.critical(\"checking for name is aphabet\")\n",
    "                return False\n",
    "            else : \n",
    "                logging.error(\"check successful\")\n",
    "                return True\n",
    "    else :\n",
    "        logger.debug(\"no data found\")\n",
    "        return True\n",
    "\n",
    "def saveData(name,age,email):\n",
    "    logging.debug(f\"saving details of {name}.........\")\n",
    "    with open(\"data.txt\", 'w') as appendfile:\n",
    "        appendfile.write(f'name : {name} - age:{age}- email:{email}')\n",
    "        print(f\"details saved successfully\")\n",
    "\n",
    "\n",
    "logger.debug(\"end of savetofile program\")\n",
    "logger.debug(\"##########################\")"
   ]
  },
  {
   "cell_type": "code",
   "execution_count": null,
   "id": "c9c20242-3fa1-41ed-8bbd-2ce8d6bf0067",
   "metadata": {},
   "outputs": [],
   "source": [
    "# employee file \n",
    "\n",
    "import logging\n",
    "import saveTofile\n",
    "\n",
    "\n",
    "logger=logging.getLogger(__name__)\n",
    "logger.setLevel(logging.DEBUG)\n",
    "f = logging.Formatter('%(asctime)s - %(name)s - %(levelname)s -%(message)s')\n",
    "fh = logging.FileHandler('employee.log')\n",
    "fh.setFormatter(f)\n",
    "logger.addHandler(fh)\n",
    "\n",
    "\n",
    "# logging.basicConfig(file = 'employee.log', level = logging.DEBUG, format = '%(asctime)s - %(levelname)s -%(message)s'))\n",
    "\n",
    "logger.debug('start of employee program')\n",
    "\n",
    "name = \"nani\"\n",
    "age = 22\n",
    "email = \"nani@gmail.com\"\n",
    "\n",
    "if saveTofile.namecheck(name) is True:\n",
    "    saveTofile.saveData(name,age,email)\n",
    "else:\n",
    "    logger.critical(\"employee check fail\")\n",
    "\n",
    "\n",
    "logger.info(\"End of  the employee program\")\n",
    "logger.debug(\"#########################\")\n",
    "\n",
    "\n",
    "\n",
    "\n",
    "\n",
    "\n"
   ]
  },
  {
   "cell_type": "code",
   "execution_count": 1,
   "id": "a41f34c2-848c-4bef-bd15-853173b33b9e",
   "metadata": {},
   "outputs": [],
   "source": [
    "import logging\n",
    "\n",
    "logging.basicConfig(level = logging.DEBUG, filename = 'tet2.log')\n",
    "\n",
    "\n",
    "def div(a,b):\n",
    "    logging.info(\"this my start of code i am trying to  enter %s and %s\" , a,b)\n",
    "    try :\n",
    "        div = a/b\n",
    "        logging.info(\"excu succ\")\n",
    "    except Exception as e:\n",
    "        logging.info(\"error has happend\")\n",
    "        logging.info(\"Exception occured :\" + str(e))\n",
    "        \n",
    "        \n",
    "div(5,0)"
   ]
  },
  {
   "cell_type": "code",
   "execution_count": null,
   "id": "4075af73-ab07-4682-ac27-922007398c03",
   "metadata": {},
   "outputs": [],
   "source": []
  },
  {
   "cell_type": "code",
   "execution_count": null,
   "id": "ca48668f-e309-4c47-9051-de4e261fa7a9",
   "metadata": {},
   "outputs": [],
   "source": []
  },
  {
   "cell_type": "code",
   "execution_count": null,
   "id": "81e86676-cf1a-46e1-acaa-726f6e795204",
   "metadata": {},
   "outputs": [],
   "source": []
  },
  {
   "cell_type": "code",
   "execution_count": null,
   "id": "5eda2286-032d-432e-91f9-74bf24df66dc",
   "metadata": {},
   "outputs": [],
   "source": []
  },
  {
   "cell_type": "code",
   "execution_count": null,
   "id": "3fd16293-5234-41b7-91f9-3f289a124553",
   "metadata": {},
   "outputs": [],
   "source": []
  },
  {
   "cell_type": "code",
   "execution_count": null,
   "id": "18d12bc5-92e8-46a9-82fc-03b31dca82f2",
   "metadata": {},
   "outputs": [],
   "source": []
  }
 ],
 "metadata": {
  "kernelspec": {
   "display_name": "Python 3 (ipykernel)",
   "language": "python",
   "name": "python3"
  },
  "language_info": {
   "codemirror_mode": {
    "name": "ipython",
    "version": 3
   },
   "file_extension": ".py",
   "mimetype": "text/x-python",
   "name": "python",
   "nbconvert_exporter": "python",
   "pygments_lexer": "ipython3",
   "version": "3.10.6"
  }
 },
 "nbformat": 4,
 "nbformat_minor": 5
}
