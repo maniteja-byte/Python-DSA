{
 "cells": [
  {
   "cell_type": "markdown",
   "id": "c48d4609",
   "metadata": {},
   "source": [
    "# # Inheritance ##"
   ]
  },
  {
   "cell_type": "markdown",
   "id": "dbf20137",
   "metadata": {},
   "source": [
    "inheritance : It is basically inheriting the properties of the parent class.\n",
    "              If I want to inheeritt the properties of the parent class is called as inheritance.\n",
    "              The major benifit off Inheritance is Code Resuability.\n",
    "              \n",
    "1. Single inheritance : In the single inheritance we have simple on parent class and one child class\n",
    "\n",
    "2. Multiple inheritance : in the Multiple inheritance we have two parent classes and on child class.\n",
    "\n",
    "3. Multilevel inheritance : In the multilevel inheritance we have one Parent class and 2 child classes\n",
    "\n",
    "parent class \n",
    "                child class inherit the parent class properties\n",
    "child class1  \n",
    "                child class inherit the parent class properties\n",
    "child class\n",
    "\n",
    "4. hierarchical inheritance : same parent class inherited in multiple child class.\n",
    "\n",
    "                        parent class\n",
    "                        \n",
    "                    \n",
    "            childclass   childclass    childclass\n",
    "            \n",
    "5.   Hybrid inheritance: I can inherit one parent class (or) parent and childclass at once (or) we can inherit one parent class and two child classes.\n",
    "\n",
    "                parentclass\n",
    "                \n",
    "                \n",
    "      childclass1       childclass2\n",
    "              \n",
    "              \n",
    "              childclass3"
   ]
  },
  {
   "cell_type": "markdown",
   "id": "e2ad0fcd",
   "metadata": {},
   "source": [
    "# Single inheritance"
   ]
  },
  {
   "cell_type": "code",
   "execution_count": 6,
   "id": "772a15f0",
   "metadata": {},
   "outputs": [],
   "source": [
    "class xyz:\n",
    "    def __init__(self,a,b,c):\n",
    "        self.a = a\n",
    "        self.b = b\n",
    "        self.c = c\n",
    "    \n",
    "    def test(self):\n",
    "        print(\"this is my first test method of xyz class\")\n",
    "        \n",
    "    def test1(self):\n",
    "        print(\"this is my second method of xyz class\")\n",
    "        \n",
    "    def test2(self):\n",
    "        print(\"thiss iss my thir class of Xyz class\")\n",
    "        \n",
    "        \n",
    "        \n",
    "class xyz1(xyz):\n",
    "    def test(self):\n",
    "        print(\"this is test avaiablable in xyz11 class.\")\n",
    "\n",
    "\n",
    "\n",
    "p = xyz1(2,3,5)"
   ]
  },
  {
   "cell_type": "code",
   "execution_count": 7,
   "id": "49985bc8",
   "metadata": {},
   "outputs": [
    {
     "name": "stdout",
     "output_type": "stream",
     "text": [
      "this is test avaiablable in xyz11 class.\n",
      "this is my second method of xyz class\n",
      "thiss iss my thir class of Xyz class\n"
     ]
    }
   ],
   "source": [
    "p.test()\n",
    "p.test1()\n",
    "p.test2()"
   ]
  },
  {
   "cell_type": "code",
   "execution_count": 30,
   "id": "0f852e04",
   "metadata": {},
   "outputs": [
    {
     "name": "stdout",
     "output_type": "stream",
     "text": [
      "helo child\n",
      "heelo from parent class\n",
      "heelo from parent class\n"
     ]
    },
    {
     "ename": "AttributeError",
     "evalue": "'parent' object has no attribute 'func2'",
     "output_type": "error",
     "traceback": [
      "\u001b[1;31m---------------------------------------------------------------------------\u001b[0m",
      "\u001b[1;31mAttributeError\u001b[0m                            Traceback (most recent call last)",
      "Input \u001b[1;32mIn [30]\u001b[0m, in \u001b[0;36m<cell line: 19>\u001b[1;34m()\u001b[0m\n\u001b[0;32m     17\u001b[0m test1 \u001b[38;5;241m=\u001b[39m parent()\n\u001b[0;32m     18\u001b[0m test1\u001b[38;5;241m.\u001b[39mfunc1()       \u001b[38;5;66;03m# we can call\u001b[39;00m\n\u001b[1;32m---> 19\u001b[0m \u001b[43mtest1\u001b[49m\u001b[38;5;241;43m.\u001b[39;49m\u001b[43mfunc2\u001b[49m()\n",
      "\u001b[1;31mAttributeError\u001b[0m: 'parent' object has no attribute 'func2'"
     ]
    }
   ],
   "source": [
    "class parent:\n",
    "    def func1(self):\n",
    "        print(\"heelo from parent class\")\n",
    "        \n",
    "class child(parent):\n",
    "    def func2(self):\n",
    "        print(\"helo child\")\n",
    "        \n",
    "        \n",
    "        \n",
    "test = child()\n",
    "\n",
    "test.func2()   # we can call\n",
    "test.func1()   # we can call\n",
    "\n",
    "\n",
    "test1 = parent()\n",
    "test1.func1()       # we can call\n",
    "test1.func2()       # we can't call"
   ]
  },
  {
   "cell_type": "code",
   "execution_count": 32,
   "id": "1c28c404",
   "metadata": {},
   "outputs": [
    {
     "name": "stdout",
     "output_type": "stream",
     "text": [
      "contact us at: https://ineuron.ai\n",
      "est_edtails ineuron is esatblished in 2018\n"
     ]
    }
   ],
   "source": [
    "class ineuron:\n",
    "    company_site = \"https://ineuron.ai\"\n",
    "    name = \"ineuron\"\n",
    "\n",
    "    def contact_det(self):\n",
    "        print(\"contact us at:\", self.company_site)\n",
    "        \n",
    "class ds(ineuron):\n",
    "        \n",
    "    def __init__(self):\n",
    "        self.year_of_est = 2018\n",
    "     \n",
    "    def est_det(self):\n",
    "        print(\"est_edtails\",self.name, \"is esatblished in\", self.year_of_est)\n",
    "        \n",
    "        \n",
    "        \n",
    "        \n",
    "neuro = ds()\n",
    "neuro.contact_det()\n",
    "neuro.est_det()"
   ]
  },
  {
   "cell_type": "code",
   "execution_count": null,
   "id": "7513b411",
   "metadata": {},
   "outputs": [],
   "source": []
  },
  {
   "cell_type": "markdown",
   "id": "74e261de",
   "metadata": {},
   "source": [
    "# Multiple Inheritance"
   ]
  },
  {
   "cell_type": "code",
   "execution_count": 24,
   "id": "c6dc4cb3",
   "metadata": {},
   "outputs": [],
   "source": [
    "class xyz:\n",
    "    def __init__(self,a,b,c):\n",
    "        self.a = a\n",
    "        self.b = b\n",
    "        self.c = c\n",
    "        \n",
    "    def test(self):\n",
    "        print(\"this is method of xyz cclasss\")\n",
    "        \n",
    "        \n",
    "class xyz1:\n",
    "    def __init__(self,p,q,v):\n",
    "        self.p =p\n",
    "        self.q=q\n",
    "        self.v =v\n",
    "        \n",
    "    def test1(self):\n",
    "        print(\"this is method from class xyz1\")\n",
    "        \n",
    "\n",
    "class child(xyz,xyz1):\n",
    "    def __init__(self,*args, **kwargs):\n",
    "        xyz.__init__(self, *args)\n",
    "        xyz1.__init__(self, **kwargs)\n",
    "\n",
    "n = child(4,5,6, p=7,q=8,v=9)"
   ]
  },
  {
   "cell_type": "code",
   "execution_count": 33,
   "id": "bd360410",
   "metadata": {},
   "outputs": [
    {
     "data": {
      "text/plain": [
       "8"
      ]
     },
     "execution_count": 33,
     "metadata": {},
     "output_type": "execute_result"
    }
   ],
   "source": [
    "n.q"
   ]
  },
  {
   "cell_type": "code",
   "execution_count": 35,
   "id": "c2592370",
   "metadata": {},
   "outputs": [
    {
     "name": "stdout",
     "output_type": "stream",
     "text": [
      "hello from parent 1\n",
      "hello from parent 2\n",
      "Hello from child\n"
     ]
    }
   ],
   "source": [
    "class parent1:\n",
    "    def func1(self):\n",
    "        print(\"hello from parent 1\")\n",
    "        \n",
    "class parent2:\n",
    "    def func2(self):\n",
    "        print(\"hello from parent 2\")\n",
    "\n",
    "class child(parent1,parent2):\n",
    "    def func3(self):\n",
    "        print(\"Hello from child\")\n",
    "    \n",
    "    \n",
    "cl = child()\n",
    "\n",
    "cl.func1()\n",
    "cl.func2()\n",
    "cl.func3()"
   ]
  },
  {
   "cell_type": "code",
   "execution_count": 36,
   "id": "fdeac071",
   "metadata": {},
   "outputs": [
    {
     "name": "stdout",
     "output_type": "stream",
     "text": [
      "2\n",
      "data\n",
      "batch 2\n",
      "course data\n"
     ]
    }
   ],
   "source": [
    "class batch_num:\n",
    "    batch_number = \"\"\n",
    "    def __init__(self,a,b,c):\n",
    "        self.a = a\n",
    "        self.b =b\n",
    "        self.c=c\n",
    "    def batch (self):\n",
    "        print(self.batch_number)\n",
    "\n",
    "        \n",
    "        \n",
    "class course_name:\n",
    "    course_n=\"\"\n",
    "    \n",
    "    def course(self):\n",
    "        print(self.course_n)\n",
    "        \n",
    "class student(batch_num,course_name):\n",
    "    \n",
    "    def show(self):\n",
    "        print(\"batch\", self.batch_number)\n",
    "        print(\"course\", self.course_n)\n",
    "        \n",
    "        \n",
    "s1 = student(4,5,6)\n",
    "\n",
    "s1.batch_number = \"2\"\n",
    "s1.course_n = \"data\"\n",
    "\n",
    "\n",
    "s1.batch()\n",
    "s1.course()\n",
    "s1.show()\n"
   ]
  },
  {
   "cell_type": "code",
   "execution_count": 58,
   "id": "430468d0",
   "metadata": {},
   "outputs": [
    {
     "name": "stdout",
     "output_type": "stream",
     "text": [
      "maniteja works for the companyh name called  ineuron\n"
     ]
    }
   ],
   "source": [
    "class person:\n",
    "    name_person = \"maniteja\"\n",
    "    \n",
    "    def func(self):\n",
    "        print(\"i am searching for :\", self.name_person)\n",
    "    \n",
    "    \n",
    "class company:\n",
    "    companydetails = \"ineuron\"\n",
    "    def func1(self):\n",
    "        print(\"the company name is :\", self.companydetails)\n",
    "        \n",
    "    \n",
    "    \n",
    "class employee(person,company):\n",
    "    def show(self):\n",
    "        print(self.name_person, \"works for the companyh name called \",self.companydetails)\n",
    "        \n",
    "        \n",
    "        \n",
    "e=employee()\n",
    "e.show()"
   ]
  },
  {
   "cell_type": "code",
   "execution_count": null,
   "id": "cb857b9b",
   "metadata": {},
   "outputs": [],
   "source": []
  },
  {
   "cell_type": "markdown",
   "id": "e7e2ee3b",
   "metadata": {},
   "source": [
    "# Multilevel Inheritance"
   ]
  },
  {
   "cell_type": "code",
   "execution_count": 28,
   "id": "725b38e4",
   "metadata": {},
   "outputs": [],
   "source": [
    "class xyz:\n",
    "    def __init__(self,a,b,c):\n",
    "        self.a = a\n",
    "        self.b = b\n",
    "        self.c = c\n",
    "        \n",
    "    def test(self):\n",
    "        print(\"this is method of xyz cclasss\")\n",
    "        \n",
    "        \n",
    "class xyz1(xyz):\n",
    "        \n",
    "    def test1(self):\n",
    "        print(\"this is method from class xyz1\")\n",
    "        \n",
    "\n",
    "class child(xyz1):\n",
    "    def test2(self):\n",
    "        print(\"this is the child class\")\n",
    "        \n",
    "        \n",
    "        \n",
    "        \n",
    "c1=child(5,6,7)\n",
    "    "
   ]
  },
  {
   "cell_type": "code",
   "execution_count": 29,
   "id": "98a88693",
   "metadata": {},
   "outputs": [
    {
     "name": "stdout",
     "output_type": "stream",
     "text": [
      "this is method from class xyz1\n"
     ]
    }
   ],
   "source": [
    "c1.test1()"
   ]
  },
  {
   "cell_type": "code",
   "execution_count": 59,
   "id": "14c10b98",
   "metadata": {},
   "outputs": [
    {
     "name": "stdout",
     "output_type": "stream",
     "text": [
      "im insdie test1, parenmt class\n",
      "im inside test2, child1\n",
      "im inside testw3, child2\n"
     ]
    }
   ],
   "source": [
    "class test1:\n",
    "    def a(self):\n",
    "        print(\"im insdie test1, parenmt class\")\n",
    "        \n",
    "        \n",
    "        \n",
    "class test2(test1):\n",
    "    def b(self):\n",
    "        print(\"im inside test2, child1\")\n",
    "        \n",
    "        \n",
    "\n",
    "class test3(test2):\n",
    "    def c(self):\n",
    "        print(\"im inside testw3, child2\")\n",
    "        \n",
    "        \n",
    "tt = test3()\n",
    "\n",
    "tt.a()\n",
    "tt.b()\n",
    "tt.c()"
   ]
  },
  {
   "cell_type": "code",
   "execution_count": 61,
   "id": "c84594b5",
   "metadata": {},
   "outputs": [
    {
     "name": "stdout",
     "output_type": "stream",
     "text": [
      "Inside vehicle class\n",
      "Insode car class\n",
      "inside sports car\n"
     ]
    }
   ],
   "source": [
    "class vehicle:\n",
    "    def info(self):\n",
    "        print(\"Inside vehicle class\")\n",
    "    \n",
    "class car(vehicle):\n",
    "    def carinfo(self):\n",
    "        print(\"Insode car class\")\n",
    "        \n",
    "class sportscar(car):\n",
    "    def sportcarinfo(self):\n",
    "        print(\"inside sports car\")\n",
    "        \n",
    "        \n",
    "sc = sportscar()\n",
    "\n",
    "sc.info()\n",
    "sc.carinfo()\n",
    "sc.sportcarinfo()"
   ]
  },
  {
   "cell_type": "code",
   "execution_count": 62,
   "id": "4230dcc2",
   "metadata": {},
   "outputs": [
    {
     "name": "stdout",
     "output_type": "stream",
     "text": [
      "brand samsung price 26000\n",
      "midernage mobile\n"
     ]
    }
   ],
   "source": [
    "class phones:\n",
    "    def __init__(self, brand,model,price):\n",
    "        self.brand = brand\n",
    "        self.model = model\n",
    "        self.price = price\n",
    "    \n",
    "    def spec(self):\n",
    "        print(\"brand\", self.brand  , \"price\",self.price)\n",
    "    \n",
    "    def typeofphone(self):\n",
    "        if self.price < 20000 :\n",
    "            print(\"budeget mobile\")\n",
    "        else :\n",
    "            print(\"midernage mobile\")\n",
    "        \n",
    "        \n",
    "class smartphone(phones):\n",
    "    def __init__(self,brand,model,price,ram,storage):\n",
    "        super().__init__(brand,model,price)                 # super will inherit the parent class variables, no need pf giving variables separetly\n",
    "        self.ram = ram\n",
    "        self.storage = storage\n",
    "    \n",
    "    \n",
    "    \n",
    "class flagship(smartphone):\n",
    "    def __init__(self,brand,model,price,ram,storage,fcam,rcam,display):\n",
    "        super().__init__(brand,model,price,ram,storage)\n",
    "        self.facm = fcam\n",
    "        self.rcam = rcam\n",
    "        self.display = display\n",
    "        \n",
    "        \n",
    "        \n",
    "f1 = flagship(\"samsung\",\"m52\",26000,\"4GB\",\"256GB\",4,5,5.5)\n",
    "f1.spec()\n",
    "f1.typeofphone()"
   ]
  },
  {
   "cell_type": "markdown",
   "id": "f37c54ad",
   "metadata": {},
   "source": []
  },
  {
   "cell_type": "markdown",
   "id": "078ccc61",
   "metadata": {},
   "source": [
    "# Hirerachial level inheritance"
   ]
  },
  {
   "cell_type": "code",
   "execution_count": 65,
   "id": "1542279f",
   "metadata": {},
   "outputs": [
    {
     "name": "stdout",
     "output_type": "stream",
     "text": [
      "this is vehicle class , parent class\n",
      "car child1class nano\n",
      "truck child class3 ashokleyland\n",
      "this is vehicle class , parent class\n"
     ]
    }
   ],
   "source": [
    "class vehicle:\n",
    "    def info(self):\n",
    "        print(\"this is vehicle class , parent class\")\n",
    "        \n",
    "class car(vehicle):\n",
    "    def car_info(self, name):\n",
    "        print(\"car child1class\", name)\n",
    "        \n",
    "        \n",
    "class truck(vehicle):\n",
    "    def truckinfo(self, name):\n",
    "        print(\"truck child class3\", name)\n",
    "        \n",
    "        \n",
    "\n",
    "c1 = car()\n",
    "c1.info()\n",
    "c1.car_info(\"nano\")\n",
    "\n",
    "\n",
    "t1 = truck()\n",
    "t1.truckinfo(\"ashokleyland\")\n",
    "t1.info()"
   ]
  },
  {
   "cell_type": "code",
   "execution_count": null,
   "id": "ea3d1f81",
   "metadata": {},
   "outputs": [],
   "source": []
  },
  {
   "cell_type": "markdown",
   "id": "baf711ec",
   "metadata": {},
   "source": [
    "# Hybrid Inheritance"
   ]
  },
  {
   "cell_type": "code",
   "execution_count": null,
   "id": "1715d897",
   "metadata": {},
   "outputs": [],
   "source": [
    "class vehicle:\n",
    "    def info(self):\n",
    "        print(\"this is vehicle class , parent class\")\n",
    "        \n",
    "class car(vehicle):\n",
    "    def car_info(self, name):\n",
    "        print(\"car child1class\", name)\n",
    "        \n",
    "        \n",
    "class truck(vehicle):\n",
    "    def truckinfo(self, name):\n",
    "        print(\"truck child class3\", name)\n",
    "        \n",
    "        \n",
    "        \n",
    "class sportscar(car,vehicle):\n",
    "    def sport(self):\n",
    "        print(\"inside from sportscar\")        \n",
    "        \n",
    "d1 = sportscar()\n",
    "d1.car_info(\"maruthi\")\n",
    "d1.info()\n",
    "d1.sport()"
   ]
  },
  {
   "cell_type": "raw",
   "id": "af6e3ae0",
   "metadata": {},
   "source": []
  },
  {
   "cell_type": "raw",
   "id": "25ca797e",
   "metadata": {},
   "source": []
  },
  {
   "cell_type": "markdown",
   "id": "6ac0e99e",
   "metadata": {},
   "source": [
    "# Super Method."
   ]
  },
  {
   "cell_type": "raw",
   "id": "cba52ef4",
   "metadata": {},
   "source": [
    "# Super Method : super().funcname ,  super().__init__\n",
    "    \n",
    "1.a : Super is used when we need to build classes(child class) that extend the functionality of perviously build classes(parent class)\n",
    "1.b : super function is used to access methods of immediae parent class\n",
    "    \n",
    "2. when you intialize a child in python you can call \"Super().__init__ ()\" method this intialize the parent class obj into child class\n"
   ]
  },
  {
   "cell_type": "code",
   "execution_count": 71,
   "id": "8c7646b8",
   "metadata": {},
   "outputs": [
    {
     "name": "stdout",
     "output_type": "stream",
     "text": [
      "i work at  ineuron\n"
     ]
    }
   ],
   "source": [
    "#super class\n",
    "\n",
    "#Super is used when we need to build classes(child class) that extend the functionality of previously build classes(parent class)\n",
    "#super function is used to access methods of m=immediate parent class\n",
    "\n",
    "\n",
    "\n",
    "class company:\n",
    "    def company_name(self):\n",
    "        return \"ineuron\"\n",
    "\n",
    "\n",
    "class Employee(company):\n",
    "    def info(self):\n",
    "        c_name = super().company_name()\n",
    "        print(\"i work at \", c_name)\n",
    "        \n",
    "        \n",
    "emp = Employee()\n",
    "emp.company_name()\n",
    "emp.info()\n"
   ]
  },
  {
   "cell_type": "code",
   "execution_count": 72,
   "id": "8179f388",
   "metadata": {},
   "outputs": [],
   "source": [
    "# when you intialize a child in python you can call super().__init__() method this intializze the parent class obj into child class\n",
    "\n",
    "\n",
    "class parent():\n",
    "    def __init__(self,v1,v2):\n",
    "        self.v1 =v1\n",
    "        self.v2 =v2\n",
    "        \n",
    "class child(parent):\n",
    "    def __init__(self,v1,v2,v3):\n",
    "        super().__init__(v1,v2)\n",
    "        self.v3=v3\n",
    "      \n",
    "    \n",
    "c1 = child(2,3,4)"
   ]
  },
  {
   "cell_type": "code",
   "execution_count": 73,
   "id": "f7fa864a",
   "metadata": {},
   "outputs": [
    {
     "ename": "SyntaxError",
     "evalue": "unexpected EOF while parsing (116191483.py, line 7)",
     "output_type": "error",
     "traceback": [
      "\u001b[1;36m  Input \u001b[1;32mIn [73]\u001b[1;36m\u001b[0m\n\u001b[1;33m    \u001b[0m\n\u001b[1;37m    ^\u001b[0m\n\u001b[1;31mSyntaxError\u001b[0m\u001b[1;31m:\u001b[0m unexpected EOF while parsing\n"
     ]
    }
   ],
   "source": [
    "#syntax super:\n",
    "\n",
    "class classname(parntclass):\n",
    "    def method (self, arg):\n",
    "        super([classname],[self]).method(#parentmethod)  #classname by default its set to praentclass\n",
    "            \n",
    "            "
   ]
  },
  {
   "cell_type": "code",
   "execution_count": null,
   "id": "f09271b5",
   "metadata": {},
   "outputs": [],
   "source": [
    "class parent:\n",
    "    def __init__(self):\n",
    "        print(\"this is parent class\")\n",
    "              \n",
    "class parent1:\n",
    "    def __init__(self):\n",
    "        print(\"this is parent1 class\")\n",
    "              \n",
    "              \n",
    "class parent2:\n",
    "    def __init__(self):\n",
    "        print(\"this is parent2 class\")\n",
    "              \n",
    "class child(parent,parent1,parent2):\n",
    "    def __init__(self):\n",
    "        super().__init__()\n",
    "              \n",
    "              \n",
    "c1 = child()"
   ]
  }
 ],
 "metadata": {
  "kernelspec": {
   "display_name": "Python 3 (ipykernel)",
   "language": "python",
   "name": "python3"
  },
  "language_info": {
   "codemirror_mode": {
    "name": "ipython",
    "version": 3
   },
   "file_extension": ".py",
   "mimetype": "text/x-python",
   "name": "python",
   "nbconvert_exporter": "python",
   "pygments_lexer": "ipython3",
   "version": "3.9.12"
  }
 },
 "nbformat": 4,
 "nbformat_minor": 5
}
